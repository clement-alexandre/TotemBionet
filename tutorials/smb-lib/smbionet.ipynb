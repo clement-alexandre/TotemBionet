{
 "cells": [
  {
   "cell_type": "markdown",
   "metadata": {},
   "source": [
    "SMBionet"
   ]
  },
  {
   "cell_type": "code",
   "execution_count": null,
   "metadata": {},
   "outputs": [],
   "source": [
    "import smb_lib"
   ]
  },
  {
   "cell_type": "markdown",
   "metadata": {},
   "source": [
    "We need to initialize smbionet with the host where the APIs are located. This Ip can be obtained in the file SMBIONET.md after launching the build.sh or simply by searching ip of your machine"
   ]
  },
  {
   "cell_type": "code",
   "execution_count": null,
   "metadata": {},
   "outputs": [],
   "source": [
    "smb = smb_lib.smbionet(\"192.168.1.17\") #replace this Ip by your Ip"
   ]
  },
  {
   "cell_type": "markdown",
   "metadata": {},
   "source": [
    "We can Run Smbionet with variable graphe, ctl and a boolean for have all models (true) or only validate models (false):"
   ]
  },
  {
   "cell_type": "code",
   "execution_count": null,
   "metadata": {},
   "outputs": [],
   "source": [
    "graphe = \"# exemple mucus graphe figure 6\\n# aucune information sur les paramètres\\n# => 42 modèles possibles (paramétrages monotones)\\nVAR\\noperon = 0 2;\\nmucuB = 0 1;\\n\\nREG\\nprod [(operon>=1)] => mucuB;\\nfree [!(mucuB>=1)] => operon;\\nalg [(operon>=1)] => operon;\"\n",
    "ctl=\"\"\n",
    "print(smb.runSmbionet(graphe,ctl,True))"
   ]
  },
  {
   "cell_type": "markdown",
   "metadata": {},
   "source": [
    "We can run Smbionet with file : "
   ]
  },
  {
   "cell_type": "code",
   "execution_count": null,
   "metadata": {},
   "outputs": [],
   "source": [
    "print(smb.runSmbionetwithPathFile(\"./../resources/mucusOperonV3.smb\",True))\n",
    "# print(smb.runSmbionetwithTwoPathFile(\"./../resources/GraphemucusOperonV3.smb\",\"./../resources/CTLmucusOperonV3.smb\",true)"
   ]
  },
  {
   "cell_type": "markdown",
   "metadata": {},
   "source": [
    "All this experiences write in files .out. Also, We can consults the experiences made by smbionet:"
   ]
  },
  {
   "cell_type": "code",
   "execution_count": null,
   "metadata": {},
   "outputs": [],
   "source": [
    "smb.consulteExperiences()"
   ]
  },
  {
   "cell_type": "markdown",
   "metadata": {},
   "source": [
    "Finaly, we can purge BD of experiences with : "
   ]
  },
  {
   "cell_type": "code",
   "execution_count": null,
   "metadata": {},
   "outputs": [],
   "source": [
    "smb.purge()"
   ]
  }
 ],
 "metadata": {
  "kernelspec": {
   "display_name": "Python 3",
   "language": "python",
   "name": "python3"
  },
  "language_info": {
   "codemirror_mode": {
    "name": "ipython",
    "version": 3
   },
   "file_extension": ".py",
   "mimetype": "text/x-python",
   "name": "python",
   "nbconvert_exporter": "python",
   "pygments_lexer": "ipython3",
   "version": "3.7.0"
  }
 },
 "nbformat": 4,
 "nbformat_minor": 2
}
