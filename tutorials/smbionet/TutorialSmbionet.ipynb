{
 "cells": [
  {
   "cell_type": "markdown",
   "metadata": {},
   "source": [
    "# SMBionet\n",
    "\n",
    "## Launch the server SMBionet\n",
    "\n",
    "Before launching the notebook make sure SmbionetEntryPoint server is running. This server is the java getway for our python notebook\n",
    "\n",
    "## Assignment of SMBionet inputs"
   ]
  },
  {
   "cell_type": "markdown",
   "metadata": {},
   "source": [
    "Firstly we start by calling the gateway between java code SMBionet and our notebook jupyter :"
   ]
  },
  {
   "cell_type": "code",
   "execution_count": 1,
   "metadata": {},
   "outputs": [],
   "source": [
    "from py4j.java_gateway import JavaGateway\n",
    "\n",
    "gateway = JavaGateway();\n",
    "smbionet = gateway.entry_point.getSmbionet();"
   ]
  },
  {
   "cell_type": "markdown",
   "metadata": {},
   "source": [
    "After that, we can start by giving the influence graph containing VAR REG and PARA"
   ]
  },
  {
   "cell_type": "code",
   "execution_count": 2,
   "metadata": {},
   "outputs": [],
   "source": [
    "grapheInfluence = \"# exemple mucus graphe figure 6\\n\" \\\n",
    "                  \"# haut page 21 : pas d'information sur les paramètres mais formule CTL\\n\" \\\n",
    "                  \"\\n\" \\\n",
    "                  \"VAR\\n\" \\\n",
    "                  \"operon = 0 2;\\n\" \\\n",
    "                  \"mucuB = 0 1;\\n\" \\\n",
    "                  \"\\n\" \\\n",
    "                  \"REG\\n\" \\\n",
    "                  \"prod [(operon>=1)] => mucuB;\\n\" \\\n",
    "                  \"free [!(mucuB>=1)] => operon;\\n\" \\\n",
    "                  \"alg [(operon>=1)] => operon;\\n\" \\\n",
    "                  \"\\n\" \\\n",
    "                  \"PARA\\n\" \\\n",
    "                  \"K_operon = 0 ;\\n\" \\\n",
    "                  \"K_operon+alg = 2 ;\\n\" \\\n",
    "                  \"# K_operon+free = 2 ;\\n\" \\\n",
    "                  \"K_operon+alg+free = 2 ;\\n\" \\\n",
    "                  \"K_mucuB = 0 ;\\n\" \\\n",
    "                  \"K_mucuB+prod = 1 ;\\n\";\n",
    "\n",
    "smbionet.generateInputFile(grapheInfluence);"
   ]
  },
  {
   "cell_type": "markdown",
   "metadata": {},
   "source": [
    "You can add the CTL"
   ]
  },
  {
   "cell_type": "code",
   "execution_count": 3,
   "metadata": {},
   "outputs": [],
   "source": [
    "ctl =  \"\\n\" \\\n",
    "       \"CTL\\n\" \\\n",
    "       \"(operon=0)->AG(!(mucuB=1)) & (operon=2)->AG(!(mucuB=0))\";\n",
    "\n",
    "smbionet.addCTL(ctl);"
   ]
  },
  {
   "cell_type": "markdown",
   "metadata": {},
   "source": [
    "Now, we can launch SMBionet "
   ]
  },
  {
   "cell_type": "code",
   "execution_count": 4,
   "metadata": {},
   "outputs": [],
   "source": [
    "smbionet.run();\n",
    "print(smbionet.result());"
   ]
  }
 ],
 "metadata": {
  "kernelspec": {
   "display_name": "Python 3",
   "language": "python",
   "name": "python3"
  },
  "language_info": {
   "codemirror_mode": {
    "name": "ipython",
    "version": 3
   },
   "file_extension": ".py",
   "mimetype": "text/x-python",
   "name": "python",
   "nbconvert_exporter": "python",
   "pygments_lexer": "ipython3",
   "version": "3.7.0"
  }
 },
 "nbformat": 4,
 "nbformat_minor": 2
}
