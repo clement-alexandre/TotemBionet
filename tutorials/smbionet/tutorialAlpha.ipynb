{
 "cells": [
  {
   "cell_type": "code",
   "execution_count": null,
   "metadata": {},
   "outputs": [],
   "source": [
    "from py4j.java_gateway import JavaGateway\n",
    "\n",
    "\n",
    "\n",
    "gateway = JavaGateway()\n",
    "\n",
    "smbionet = gateway.entry_point.getSmbionet();\n",
    "\n",
    "smbionet.setInput(\"./samples/mucusOperonV2\");\n",
    "smbionet.run();"
   ]
  }
 ],
 "metadata": {
  "kernelspec": {
   "display_name": "Python 3",
   "language": "python",
   "name": "python3"
  },
  "language_info": {
   "codemirror_mode": {
    "name": "ipython",
    "version": 3
   },
   "file_extension": ".py",
   "mimetype": "text/x-python",
   "name": "python",
   "nbconvert_exporter": "python",
   "pygments_lexer": "ipython3",
   "version": "3.7.0"
  }
 },
 "nbformat": 4,
 "nbformat_minor": 2
}
