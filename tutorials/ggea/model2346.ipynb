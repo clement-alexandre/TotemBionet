{
 "cells": [
  {
   "cell_type": "markdown",
   "metadata": {},
   "source": [
    "# Asynchronous State Graph Generator"
   ]
  },
  {
   "cell_type": "markdown",
   "metadata": {},
   "source": [
    "In this notebook, we show how to use the `ggea` library."
   ]
  },
  {
   "cell_type": "code",
   "execution_count": null,
   "metadata": {},
   "outputs": [],
   "source": [
    "import ggea"
   ]
  },
  {
   "cell_type": "markdown",
   "metadata": {},
   "source": [
    "First, we create a model.\n",
    "This model is an output file (from SMBionet) of the consortium TrEc, model 2346."
   ]
  },
  {
   "cell_type": "code",
   "execution_count": null,
   "metadata": {},
   "outputs": [],
   "source": [
    "model2346 = ggea.GGEAModel()\n",
    "\n",
    "# Dictionary with the levels of the variables\n",
    "model2346.variables = {\"CTr\": [0, 1], \"CEc\": [0, 1], \"SG1\": [0, 1, 2],\n",
    "                       \"SG2\": [0, 1, 2], \"Sc\": [0, 1], \"Ecel\": [0, 1],\n",
    "                       \"EBGL\": [0, 1], \"I\": [0, 1, 2]}\n",
    "\n",
    "\n",
    "# Dictionary with the parameters of the variables\n",
    "model2346.relations = {\"CTr\": {\"K_CTr\": 1, \"K_CTr+u6_acti\": 1},\n",
    "                       \"CEc\": {\"K_CEc\": 1, \"K_CEc+u7_acti\": 1},\n",
    "                       \"SG1\": {\"K_SG1\": 0, \"K_SG1+u1_inhi\": 0,\n",
    "                               \"K_SG1+u2_inhi\": 2, \"K_SG1+u4_acti\": 2,\n",
    "                               \"K_SG1+u1_inhi+u2_inhi\": 2,\n",
    "                               \"K_SG1+u2_inhi+u4_acti\": 2,\n",
    "                               \"K_SG1+u1_inhi+u4_acti\": 2,\n",
    "                               \"K_SG1+u1_inhi+u2_inhi+u4_acti\": 2},\n",
    "                       \"SG2\": {\"K_SG2\": 0, \"K_SG2+u5_acti\": 0},\n",
    "                       \"Sc\": {\"K_Sc\": 1},\n",
    "                       \"Ecel\": {\"K_Ecel\": 0, \"K_Ecel+u1_acti\": 1},\n",
    "                       \"EBGL\": {\"K_EBGL\": 1, \"K_EBGL+u1_acti\": 1},\n",
    "                       \"I\": {\"K_I\": 0, \"K_I+u2_acti\": 2}}\n",
    "\n",
    "\n",
    "# Declaration of the multiplex\n",
    "model2346.multiplex = {\n",
    "    'CTr': {'u6_acti': '(I < 2) and ((CTr == 1) and ((SG1 == 2) or (SG2 > '\n",
    "                       '0)))'},\n",
    "    'CEc': {'u7_acti': '(I < 1) and ((CEc == 1) and (SG1 > 0))'},\n",
    "    'SG1': {'u1_inhi': '(CTr == 0) or ((SG1 < 2) and (SG2 == 0))',\n",
    "            'u2_inhi': '(CEc == 0) and (SG1 == 0)',\n",
    "            'u4_acti': '(SG2 == 0) and (EBGL == 1)'},\n",
    "    'SG2': {'u5_acti': '((Sc == 1) and (Ecel == 1)) or ((SG2 < 2) or ('\n",
    "                       'EBGL == 0))'}, 'Sc': {},\n",
    "    'Ecel': {'u1_acti': '(CTr == 1) and ((SG1 == 2) or (SG2 > 0))'},\n",
    "    'EBGL': {'u1_acti': '(CTr == 1) and ((SG1 == 2) or (SG2 > 0))'},\n",
    "    'I': {'u2_acti': '(CEc == 1) and (SG1 > 0)'}}"
   ]
  },
  {
   "cell_type": "markdown",
   "metadata": {},
   "source": [
    "Then we use ggea to create the graph of the model"
   ]
  },
  {
   "cell_type": "code",
   "execution_count": null,
   "metadata": {},
   "outputs": [],
   "source": [
    "graph = ggea.create_graph(model2346)"
   ]
  },
  {
   "cell_type": "markdown",
   "metadata": {},
   "source": [
    "With ggea, we can display the graph in the notebook"
   ]
  },
  {
   "cell_type": "code",
   "execution_count": null,
   "metadata": {
    "scrolled": true
   },
   "outputs": [],
   "source": [
    "ggea.show(graph)"
   ]
  },
  {
   "cell_type": "markdown",
   "metadata": {},
   "source": [
    "Or save it to a file as a dot file which can be open with graphviz for example."
   ]
  },
  {
   "cell_type": "code",
   "execution_count": null,
   "metadata": {},
   "outputs": [],
   "source": [
    "ggea.export_to_dot(filename=\"output\", graph=graph)"
   ]
  },
  {
   "cell_type": "code",
   "execution_count": null,
   "metadata": {
    "scrolled": false
   },
   "outputs": [],
   "source": [
    "with open(\"output.dot\") as dot:\n",
    "    print(dot.read())"
   ]
  },
  {
   "cell_type": "code",
   "execution_count": null,
   "metadata": {},
   "outputs": [],
   "source": [
    "import os\n",
    "os.remove(\"output.dot\")"
   ]
  }
 ],
 "metadata": {
  "kernelspec": {
   "display_name": "Python 3",
   "language": "python",
   "name": "python3"
  },
  "language_info": {
   "codemirror_mode": {
    "name": "ipython",
    "version": 3
   },
   "file_extension": ".py",
   "mimetype": "text/x-python",
   "name": "python",
   "nbconvert_exporter": "python",
   "pygments_lexer": "ipython3",
   "version": "3.7.0"
  }
 },
 "nbformat": 4,
 "nbformat_minor": 2
}
