{
 "cells": [
  {
   "cell_type": "code",
   "execution_count": null,
   "metadata": {
    "slideshow": {
     "slide_type": "skip"
    }
   },
   "outputs": [],
   "source": [
    "%matplotlib inline"
   ]
  },
  {
   "cell_type": "code",
   "execution_count": null,
   "metadata": {
    "slideshow": {
     "slide_type": "skip"
    }
   },
   "outputs": [],
   "source": [
    "%%HTML\n",
    "<style>\n",
    "\n",
    ".CodeMirror {\n",
    "    width: 100vw;\n",
    "}\n",
    "\n",
    ".rendered_html {\n",
    "  font-size:0.8em;\n",
    "}\n",
    ".rendered_html table, .rendered_html th, .rendered_html tr, .rendered_html td {\n",
    "     font-size: 90%;\n",
    "}\n",
    "\n",
    ".tg  {border-collapse:collapse;border-spacing:0;}\n",
    ".tg td{border-style:solid;border-width:1px;overflow:hidden;word-break:normal;border-color:black;}\n",
    ".tg th{border-style:solid;border-width:1px;overflow:hidden;word-break:normal;border-color:black;}\n",
    ".tg .tg-c3ow{border-color:inherit;text-align:center;vertical-align:top}\n",
    "\n",
    "</style>"
   ]
  },
  {
   "cell_type": "markdown",
   "metadata": {
    "slideshow": {
     "slide_type": "notes"
    }
   },
   "source": [
    "Mohamed"
   ]
  },
  {
   "cell_type": "markdown",
   "metadata": {
    "slideshow": {
     "slide_type": "slide"
    }
   },
   "source": [
    "<h1> TotemBionet </h1>\n",
    "\n",
    "\n",
    "<h3> Auteurs : Mohamed Chennouf et Alexandre Clement </h3>\n",
    "<h3> Responsable : Hélène Collavizza </h3>\n",
    "<h3> Co-encadrants : M.Gilles Bernot et M.Jean-Paul Comet </h3>\n",
    "\n"
   ]
  },
  {
   "cell_type": "markdown",
   "metadata": {
    "slideshow": {
     "slide_type": "notes"
    }
   },
   "source": [
    "M"
   ]
  },
  {
   "cell_type": "markdown",
   "metadata": {
    "slideshow": {
     "slide_type": "slide"
    }
   },
   "source": [
    "<h1> Contexte </h1>\n",
    "\n",
    "<table>\n",
    "    <tr>\n",
    "        <td> <h2> Biologistes </h2> </td>\n",
    "        <td> </td>\n",
    "        <td> <h2> Bio Informaticiens </h2> </td>\n",
    "        <td> </td>\n",
    "        <td> <h2> Informaticiens </h2> </td>\n",
    "    <tr>\n",
    "        <td> <img src=\"https://www.cidj.com/sites/default/files/styles/full_article/public/2018-08/technicienne-biologiste-Wavebreak-Media-Micro-Fotolia.jpg?itok=eCmCr4ka\" alt=\"Drawing\" style=\"width: 400px;\"/> </td>\n",
    "        <td>  <b> <font size=\"30\">→</font>  </b> </td>\n",
    "        <td> <img src=\"https://www.science.lu/sites/default/files/import/750px-researchers_review_cancer_data.jpg\" alt=\"Drawing\" style=\"width: 400px;\"/> </td>\n",
    "        <td>  <b> <font size=\"30\">→</font>  </b> </td>\n",
    "        <td> <img src=\"http://www.jobtech.fr/Jobtech/informatique/images/iStock_000049209142_Small.jpg\" alt=\"Drawing\" style=\"width: 500px;\"/> </td>\n",
    "</table>"
   ]
  },
  {
   "cell_type": "markdown",
   "metadata": {
    "slideshow": {
     "slide_type": "fragment"
    }
   },
   "source": [
    "* Modélisation formelle de problèmes en biologie\n",
    "* Collaboration avec une équipe de bio-informaticiens\n",
    "* Chaque doctorant en bio-informatique donne lieu à un formalisme"
   ]
  },
  {
   "cell_type": "markdown",
   "metadata": {
    "slideshow": {
     "slide_type": "slide"
    }
   },
   "source": [
    "# Problématique"
   ]
  },
  {
   "cell_type": "markdown",
   "metadata": {
    "slideshow": {
     "slide_type": "fragment"
    }
   },
   "source": [
    "* Plusieurs prototypes qui se complètent\n",
    "* Plusieurs manipulations pour lancer les prototypes\n",
    "* Parser les données à la main\n",
    "* Compiler du code\n",
    "* Installer plusieurs dépendances\n",
    "* Pas de sauvegarde\n",
    "* Différents langages"
   ]
  },
  {
   "cell_type": "markdown",
   "metadata": {
    "slideshow": {
     "slide_type": "fragment"
    }
   },
   "source": [
    "## Existe t-il un moyen de faciliter l’utilisation des prototypes des bio-informaticiens ?"
   ]
  },
  {
   "cell_type": "markdown",
   "metadata": {
    "slideshow": {
     "slide_type": "slide"
    }
   },
   "source": [
    "# Les solutions envisagées\n",
    "\n",
    "## Première présentation client : Mock SMBionet et GGEA"
   ]
  },
  {
   "cell_type": "markdown",
   "metadata": {
    "slideshow": {
     "slide_type": "subslide"
    }
   },
   "source": [
    "# Approche Script\n",
    "\n",
    "<span style=\"color:green\">\n",
    "    <h2> Points positifs: </h2>\n",
    "    <ul>\n",
    "        <li> Facile à mettre en place </li>\n",
    "        <li> Peu de changements dans le code des prototypes </li>\n",
    "    </ul>\n",
    "</span>\n",
    "<span style=\"color:red\">\n",
    "    <h2> Points négatifs: </h2>\n",
    "    <ul>\n",
    "        <li> Limité du point de vue évolution </li>\n",
    "        <li> Pas une vraie valeur ajoutée </li>\n",
    "    </ul>\n",
    "</span>"
   ]
  },
  {
   "cell_type": "markdown",
   "metadata": {
    "slideshow": {
     "slide_type": "subslide"
    }
   },
   "source": [
    "# Approche Microservices\n",
    "\n",
    "<span style=\"color:green\">\n",
    "    <h2> Points positifs: </h2>\n",
    "    <ul>\n",
    "        <li> Forte évolutivité </li>\n",
    "        <li> Peut être utilisé sur n’importe qu’elle plate-forme ayant docker </li>\n",
    "    </ul>\n",
    "</span>\n",
    "<span style=\"color:red\">\n",
    "    <h2> Points négatifs: </h2>\n",
    "    <ul>\n",
    "        <li> Nécessite la création d’API pour chaque prototype </li>\n",
    "        <li> Nécessite une interface graphique pour pouvoir utiliser ces APIs </li>\n",
    "        <li> Nécessite Docker </li>\n",
    "    </ul>\n",
    "</span>"
   ]
  },
  {
   "cell_type": "markdown",
   "metadata": {
    "slideshow": {
     "slide_type": "subslide"
    }
   },
   "source": [
    "# Approche Jupyter Notebook inspiré de CoLoMoTo\n",
    "\n",
    "<span style=\"color:green\">\n",
    "    <h2> Points positifs: </h2>\n",
    "    <ul>\n",
    "        <li> Intégrable dans docker </li>\n",
    "        <li> Démonstration interactive </li>\n",
    "        <li> Les doctorants et bio-informaticiens peuvent créer des notebook tutoriels pour leurs successeurs </li>\n",
    "    </ul>\n",
    "</span>\n",
    "<span style=\"color:red\">\n",
    "    <h2> Points négatifs: </h2>\n",
    "    <ul>\n",
    "        <li> Prise en main de Jupyter </li>\n",
    "        <li> Ajout de librairies coûteux </li>\n",
    "        <li> Restreint à un seul langage </li>\n",
    "    </ul>\n",
    "</span>"
   ]
  },
  {
   "cell_type": "markdown",
   "metadata": {
    "slideshow": {
     "slide_type": "slide"
    }
   },
   "source": [
    "# Deuxième présentation client: Solution Notebook Jupyter"
   ]
  },
  {
   "cell_type": "markdown",
   "metadata": {},
   "source": [
    "![Anaconda](../resources/conf2.svg)"
   ]
  },
  {
   "cell_type": "markdown",
   "metadata": {
    "slideshow": {
     "slide_type": "subslide"
    }
   },
   "source": [
    "# Problèmes rencontrés\n",
    "\n",
    "* Les prérequis et manipulations pour créer et ajouter des librairies\n",
    "* Le réseau : accès bloqué vers Anaconda\n",
    "* La sécurité du code : aspect propriétaire\n",
    "* La taille de l’image docker"
   ]
  },
  {
   "cell_type": "markdown",
   "metadata": {
    "slideshow": {
     "slide_type": "slide"
    }
   },
   "source": [
    "# Solution finale"
   ]
  },
  {
   "cell_type": "markdown",
   "metadata": {
    "slideshow": {
     "slide_type": "fragment"
    }
   },
   "source": [
    "![Solution](../resources/solution.svg)"
   ]
  },
  {
   "cell_type": "markdown",
   "metadata": {
    "slideshow": {
     "slide_type": "subslide"
    }
   },
   "source": [
    "# Architecture des composants de TotemBionet\n",
    "\n",
    "<br>\n",
    "\n",
    "<center> <img src=\"../resources/architecture.png\" alt=\"Drawing\" style=\"height:600px;\"/> </center>"
   ]
  },
  {
   "cell_type": "markdown",
   "metadata": {
    "slideshow": {
     "slide_type": "slide"
    }
   },
   "source": [
    "# Démonstration !"
   ]
  },
  {
   "cell_type": "markdown",
   "metadata": {
    "slideshow": {
     "slide_type": "subslide"
    }
   },
   "source": [
    "# Génération des modèles avec SMBionet"
   ]
  },
  {
   "cell_type": "code",
   "execution_count": null,
   "metadata": {
    "slideshow": {
     "slide_type": "fragment"
    }
   },
   "outputs": [],
   "source": [
    "import smb_lib\n",
    "\n",
    "smb = smb_lib.smbionet() #constructor smbionet\n",
    "smb.runSmbionet(\"../resources/mucusOperonV3.smb\")"
   ]
  },
  {
   "cell_type": "markdown",
   "metadata": {
    "slideshow": {
     "slide_type": "subslide"
    }
   },
   "source": [
    "# Sauvegarde des modèles avec Save Experiences"
   ]
  },
  {
   "cell_type": "code",
   "execution_count": null,
   "metadata": {
    "slideshow": {
     "slide_type": "fragment"
    }
   },
   "outputs": [],
   "source": [
    "import save_experiences\n",
    "\n",
    "save = save_experiences.save() #constructor s ave experiences\n",
    "save.saveFileExperience(\"../resources/mucusOperonV3.out\",\"myExperienceSmbionet\")"
   ]
  },
  {
   "cell_type": "code",
   "execution_count": null,
   "metadata": {
    "slideshow": {
     "slide_type": "fragment"
    }
   },
   "outputs": [],
   "source": [
    "save.downloadExperience(\"myExperienceSmbionet\")"
   ]
  },
  {
   "cell_type": "markdown",
   "metadata": {
    "slideshow": {
     "slide_type": "subslide"
    }
   },
   "source": [
    "# Sélection d'un modèle aléatoirement"
   ]
  },
  {
   "cell_type": "code",
   "execution_count": null,
   "metadata": {
    "slideshow": {
     "slide_type": "fragment"
    }
   },
   "outputs": [],
   "source": [
    "import discrete_model\n",
    "\n",
    "models = discrete_model.parse_smbionet_output_file('../resources/mucusOperonV3.out')\n",
    "\n",
    "import model_picker\n",
    "\n",
    "model = model_picker.pick_a_model_randomly(models)\n",
    "print(model)"
   ]
  },
  {
   "cell_type": "markdown",
   "metadata": {
    "slideshow": {
     "slide_type": "subslide"
    }
   },
   "source": [
    "# Génération du graphe d'influence"
   ]
  },
  {
   "cell_type": "code",
   "execution_count": null,
   "metadata": {
    "slideshow": {
     "slide_type": "fragment"
    }
   },
   "outputs": [],
   "source": [
    "model.influence_graph.show('circo')"
   ]
  },
  {
   "cell_type": "markdown",
   "metadata": {
    "slideshow": {
     "slide_type": "subslide"
    }
   },
   "source": [
    "# Génération de la table des ressources"
   ]
  },
  {
   "cell_type": "code",
   "execution_count": null,
   "metadata": {
    "slideshow": {
     "slide_type": "fragment"
    }
   },
   "outputs": [],
   "source": [
    "import resource_table\n",
    "\n",
    "resource_table.ResourceTableWithModel(model).as_data_frame().to_csv()\n"
   ]
  },
  {
   "cell_type": "markdown",
   "metadata": {
    "slideshow": {
     "slide_type": "subslide"
    }
   },
   "source": [
    "# Génération du graphe d'état asynchrone"
   ]
  },
  {
   "cell_type": "code",
   "execution_count": null,
   "metadata": {
    "slideshow": {
     "slide_type": "fragment"
    }
   },
   "outputs": [],
   "source": [
    "import ggea\n",
    "\n",
    "graph = ggea.Graph(model)\n",
    "graph"
   ]
  },
  {
   "cell_type": "markdown",
   "metadata": {
    "slideshow": {
     "slide_type": "subslide"
    }
   },
   "source": [
    "# Simulations"
   ]
  },
  {
   "cell_type": "code",
   "execution_count": null,
   "metadata": {
    "slideshow": {
     "slide_type": "fragment"
    }
   },
   "outputs": [],
   "source": [
    "import simu_net\n",
    "\n",
    "simulation = simu_net.Simulation(model)\n",
    "simulation.steps = 10\n",
    "result = simulation.run()\n",
    "result.plot_evolution()"
   ]
  },
  {
   "cell_type": "markdown",
   "metadata": {
    "slideshow": {
     "slide_type": "slide"
    }
   },
   "source": [
    "# Répartition des tâches\n",
    "\n",
    "\n",
    "\n",
    "<table class=\"tg\" font-size=\"12px\">\n",
    "  <tr>\n",
    "    <th class=\"tg-c3ow\"></th>\n",
    "    <th class=\"tg-c3ow\">SMBionet</th>\n",
    "    <th class=\"tg-c3ow\">Save Experience</th>\n",
    "    <th class=\"tg-c3ow\">Model<br></th>\n",
    "    <th class=\"tg-c3ow\">Model Picker</th>\n",
    "    <th class=\"tg-c3ow\">Resource Table</th>\n",
    "    <th class=\"tg-c3ow\">GGEA</th>\n",
    "    <th class=\"tg-c3ow\">SimuNet</th>\n",
    "    <th class=\"tg-c3ow\">Holmes</th>  \n",
    "  </tr>\n",
    "  <tr>\n",
    "    <td class=\"tg-c3ow\">Mohamed</td>\n",
    "    <td class=\"tg-c3ow\">✔️</td>\n",
    "    <td class=\"tg-c3ow\">✔️</td>\n",
    "    <td class=\"tg-c3ow\"></td>\n",
    "    <td class=\"tg-c3ow\"></td>\n",
    "    <td class=\"tg-c3ow\"></td>\n",
    "    <td class=\"tg-c3ow\"></td>\n",
    "    <td class=\"tg-c3ow\"></td>\n",
    "    <td class=\"tg-c3ow\">✔️</td>\n",
    "  </tr>\n",
    "  <tr>\n",
    "    <td class=\"tg-c3ow\">Alexandre</td>\n",
    "    <td class=\"tg-c3ow\"></td>\n",
    "    <td class=\"tg-c3ow\"></td>\n",
    "    <td class=\"tg-c3ow\">✔️</td>\n",
    "    <td class=\"tg-c3ow\">✔️</td>\n",
    "    <td class=\"tg-c3ow\">✔️</td>\n",
    "    <td class=\"tg-c3ow\">✔️</td>\n",
    "    <td class=\"tg-c3ow\">✔️</td>\n",
    "    <td class=\"tg-c3ow\"></td>  \n",
    "  </tr>\n",
    "</table>\n"
   ]
  },
  {
   "cell_type": "markdown",
   "metadata": {
    "slideshow": {
     "slide_type": "slide"
    }
   },
   "source": [
    "<h1> Merci de votre attention </h1>\n",
    "<h1> Des questions ? <h1>"
   ]
  }
 ],
 "metadata": {
  "celltoolbar": "Slideshow",
  "kernelspec": {
   "display_name": "Python 3",
   "language": "python",
   "name": "python3"
  },
  "language_info": {
   "codemirror_mode": {
    "name": "ipython",
    "version": 3
   },
   "file_extension": ".py",
   "mimetype": "text/x-python",
   "name": "python",
   "nbconvert_exporter": "python",
   "pygments_lexer": "ipython3",
   "version": "3.7.2"
  }
 },
 "nbformat": 4,
 "nbformat_minor": 2
}
